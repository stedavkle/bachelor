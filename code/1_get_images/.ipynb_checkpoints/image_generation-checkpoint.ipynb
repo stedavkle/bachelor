{
 "cells": [
  {
   "cell_type": "code",
   "execution_count": null,
   "metadata": {},
   "outputs": [],
   "source": [
    "import os\n",
    "import time\n",
    "import augmentor\n",
    "import SEM_API_CUSTOM\n",
    "import nanocontrol"
   ]
  },
  {
   "cell_type": "code",
   "execution_count": null,
   "metadata": {},
   "outputs": [],
   "source": [
    "augmentor = augmentor.augmentor(sem)\n",
    "nanocontroler = nanocontrol.controller()"
   ]
  },
  {
   "cell_type": "code",
   "execution_count": null,
   "metadata": {},
   "outputs": [],
   "source": [
    "# Initialize SEM\n",
    "sem = SEM_API_CUSTOM.SEM_API_CUSTOM()\n",
    "sem."
   ]
  }
 ],
 "metadata": {
  "kernelspec": {
   "display_name": "Python 3 (ipykernel)",
   "language": "python",
   "name": "python3"
  },
  "language_info": {
   "codemirror_mode": {
    "name": "ipython",
    "version": 3
   },
   "file_extension": ".py",
   "mimetype": "text/x-python",
   "name": "python",
   "nbconvert_exporter": "python",
   "pygments_lexer": "ipython3",
   "version": "3.10.9"
  },
  "vscode": {
   "interpreter": {
    "hash": "33996039aca07a7a854892987338e433c48c682c570a4a5d36bd8025b97fd8d7"
   }
  }
 },
 "nbformat": 4,
 "nbformat_minor": 2
}
